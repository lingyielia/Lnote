{
 "cells": [
  {
   "cell_type": "code",
   "execution_count": 1,
   "metadata": {},
   "outputs": [],
   "source": [
    "from __future__ import print_function, division\n",
    "%matplotlib inline\n",
    "import pandas as pd\n",
    "import numpy as np\n",
    "import matplotlib.pyplot as plt"
   ]
  },
  {
   "cell_type": "code",
   "execution_count": 2,
   "metadata": {},
   "outputs": [
    {
     "data": {
      "text/html": [
       "<div>\n",
       "<style scoped>\n",
       "    .dataframe tbody tr th:only-of-type {\n",
       "        vertical-align: middle;\n",
       "    }\n",
       "\n",
       "    .dataframe tbody tr th {\n",
       "        vertical-align: top;\n",
       "    }\n",
       "\n",
       "    .dataframe thead th {\n",
       "        text-align: right;\n",
       "    }\n",
       "</style>\n",
       "<table border=\"1\" class=\"dataframe\">\n",
       "  <thead>\n",
       "    <tr style=\"text-align: right;\">\n",
       "      <th></th>\n",
       "      <th>XCoord</th>\n",
       "      <th>YCoord</th>\n",
       "      <th>OBJECTID</th>\n",
       "      <th>STATEFP</th>\n",
       "      <th>COUNTYFP</th>\n",
       "      <th>TRACTCE</th>\n",
       "      <th>GEOID</th>\n",
       "      <th>NAMELSAD</th>\n",
       "      <th>MTFCC</th>\n",
       "      <th>FUNCSTAT</th>\n",
       "      <th>...</th>\n",
       "      <th>AWATER</th>\n",
       "      <th>INTPTLAT</th>\n",
       "      <th>INTPTLON</th>\n",
       "      <th>SHAPE_AREA</th>\n",
       "      <th>GEOID_DATA</th>\n",
       "      <th>COMMUTE</th>\n",
       "      <th>MEDIAN_AGE</th>\n",
       "      <th>INCOME_PER</th>\n",
       "      <th>UNEMPLOYME</th>\n",
       "      <th>OCCUPATION</th>\n",
       "    </tr>\n",
       "  </thead>\n",
       "  <tbody>\n",
       "    <tr>\n",
       "      <th>0</th>\n",
       "      <td>-73.915204</td>\n",
       "      <td>40.829633</td>\n",
       "      <td>1</td>\n",
       "      <td>36</td>\n",
       "      <td>5</td>\n",
       "      <td>17500</td>\n",
       "      <td>360050175002</td>\n",
       "      <td>Block Group 2</td>\n",
       "      <td>G5030</td>\n",
       "      <td>S</td>\n",
       "      <td>...</td>\n",
       "      <td>0.0</td>\n",
       "      <td>40.829633</td>\n",
       "      <td>-73.915204</td>\n",
       "      <td>0.000003</td>\n",
       "      <td>15000US360050175002</td>\n",
       "      <td>-0.639810</td>\n",
       "      <td>-1.754778</td>\n",
       "      <td>-1.074688</td>\n",
       "      <td>-0.646496</td>\n",
       "      <td>-1.172585</td>\n",
       "    </tr>\n",
       "    <tr>\n",
       "      <th>1</th>\n",
       "      <td>-73.913121</td>\n",
       "      <td>40.824544</td>\n",
       "      <td>2</td>\n",
       "      <td>36</td>\n",
       "      <td>5</td>\n",
       "      <td>14100</td>\n",
       "      <td>360050141001</td>\n",
       "      <td>Block Group 1</td>\n",
       "      <td>G5030</td>\n",
       "      <td>S</td>\n",
       "      <td>...</td>\n",
       "      <td>0.0</td>\n",
       "      <td>40.824544</td>\n",
       "      <td>-73.913121</td>\n",
       "      <td>0.000006</td>\n",
       "      <td>15000US360050141001</td>\n",
       "      <td>-0.264537</td>\n",
       "      <td>-1.252491</td>\n",
       "      <td>-0.783052</td>\n",
       "      <td>1.853787</td>\n",
       "      <td>-0.711751</td>\n",
       "    </tr>\n",
       "    <tr>\n",
       "      <th>2</th>\n",
       "      <td>-73.905087</td>\n",
       "      <td>40.830982</td>\n",
       "      <td>3</td>\n",
       "      <td>36</td>\n",
       "      <td>5</td>\n",
       "      <td>14500</td>\n",
       "      <td>360050145001</td>\n",
       "      <td>Block Group 1</td>\n",
       "      <td>G5030</td>\n",
       "      <td>S</td>\n",
       "      <td>...</td>\n",
       "      <td>0.0</td>\n",
       "      <td>40.830982</td>\n",
       "      <td>-73.905087</td>\n",
       "      <td>0.000005</td>\n",
       "      <td>15000US360050145001</td>\n",
       "      <td>-0.141050</td>\n",
       "      <td>-0.867014</td>\n",
       "      <td>-0.952214</td>\n",
       "      <td>1.645243</td>\n",
       "      <td>-1.312533</td>\n",
       "    </tr>\n",
       "    <tr>\n",
       "      <th>3</th>\n",
       "      <td>-73.908068</td>\n",
       "      <td>40.820240</td>\n",
       "      <td>4</td>\n",
       "      <td>36</td>\n",
       "      <td>5</td>\n",
       "      <td>7500</td>\n",
       "      <td>360050075002</td>\n",
       "      <td>Block Group 2</td>\n",
       "      <td>G5030</td>\n",
       "      <td>S</td>\n",
       "      <td>...</td>\n",
       "      <td>0.0</td>\n",
       "      <td>40.820239</td>\n",
       "      <td>-73.908068</td>\n",
       "      <td>0.000012</td>\n",
       "      <td>15000US360050075002</td>\n",
       "      <td>0.222997</td>\n",
       "      <td>-1.521156</td>\n",
       "      <td>-0.861591</td>\n",
       "      <td>-0.009733</td>\n",
       "      <td>-0.839320</td>\n",
       "    </tr>\n",
       "    <tr>\n",
       "      <th>4</th>\n",
       "      <td>-73.858947</td>\n",
       "      <td>40.897832</td>\n",
       "      <td>5</td>\n",
       "      <td>36</td>\n",
       "      <td>5</td>\n",
       "      <td>41800</td>\n",
       "      <td>360050418001</td>\n",
       "      <td>Block Group 1</td>\n",
       "      <td>G5030</td>\n",
       "      <td>S</td>\n",
       "      <td>...</td>\n",
       "      <td>0.0</td>\n",
       "      <td>40.898919</td>\n",
       "      <td>-73.856443</td>\n",
       "      <td>0.000015</td>\n",
       "      <td>15000US360050418001</td>\n",
       "      <td>-0.458589</td>\n",
       "      <td>0.160923</td>\n",
       "      <td>-0.512328</td>\n",
       "      <td>0.416473</td>\n",
       "      <td>-0.141407</td>\n",
       "    </tr>\n",
       "  </tbody>\n",
       "</table>\n",
       "<p>5 rows × 21 columns</p>\n",
       "</div>"
      ],
      "text/plain": [
       "      XCoord     YCoord  OBJECTID  STATEFP  COUNTYFP  TRACTCE         GEOID  \\\n",
       "0 -73.915204  40.829633         1       36         5    17500  360050175002   \n",
       "1 -73.913121  40.824544         2       36         5    14100  360050141001   \n",
       "2 -73.905087  40.830982         3       36         5    14500  360050145001   \n",
       "3 -73.908068  40.820240         4       36         5     7500  360050075002   \n",
       "4 -73.858947  40.897832         5       36         5    41800  360050418001   \n",
       "\n",
       "        NAMELSAD  MTFCC FUNCSTAT     ...      AWATER   INTPTLAT   INTPTLON  \\\n",
       "0  Block Group 2  G5030        S     ...         0.0  40.829633 -73.915204   \n",
       "1  Block Group 1  G5030        S     ...         0.0  40.824544 -73.913121   \n",
       "2  Block Group 1  G5030        S     ...         0.0  40.830982 -73.905087   \n",
       "3  Block Group 2  G5030        S     ...         0.0  40.820239 -73.908068   \n",
       "4  Block Group 1  G5030        S     ...         0.0  40.898919 -73.856443   \n",
       "\n",
       "   SHAPE_AREA           GEOID_DATA   COMMUTE  MEDIAN_AGE  INCOME_PER  \\\n",
       "0    0.000003  15000US360050175002 -0.639810   -1.754778   -1.074688   \n",
       "1    0.000006  15000US360050141001 -0.264537   -1.252491   -0.783052   \n",
       "2    0.000005  15000US360050145001 -0.141050   -0.867014   -0.952214   \n",
       "3    0.000012  15000US360050075002  0.222997   -1.521156   -0.861591   \n",
       "4    0.000015  15000US360050418001 -0.458589    0.160923   -0.512328   \n",
       "\n",
       "   UNEMPLOYME  OCCUPATION  \n",
       "0   -0.646496   -1.172585  \n",
       "1    1.853787   -0.711751  \n",
       "2    1.645243   -1.312533  \n",
       "3   -0.009733   -0.839320  \n",
       "4    0.416473   -0.141407  \n",
       "\n",
       "[5 rows x 21 columns]"
      ]
     },
     "execution_count": 2,
     "metadata": {},
     "output_type": "execute_result"
    }
   ],
   "source": [
    "merged = pd.read_csv('merged.csv', index_col=0)\n",
    "merged.head()"
   ]
  },
  {
   "cell_type": "code",
   "execution_count": 3,
   "metadata": {},
   "outputs": [
    {
     "data": {
      "text/plain": [
       "Index(['XCoord', 'YCoord', 'OBJECTID', 'STATEFP', 'COUNTYFP', 'TRACTCE',\n",
       "       'GEOID', 'NAMELSAD', 'MTFCC', 'FUNCSTAT', 'ALAND', 'AWATER', 'INTPTLAT',\n",
       "       'INTPTLON', 'SHAPE_AREA', 'GEOID_DATA', 'COMMUTE', 'MEDIAN_AGE',\n",
       "       'INCOME_PER', 'UNEMPLOYME', 'OCCUPATION'],\n",
       "      dtype='object')"
      ]
     },
     "execution_count": 3,
     "metadata": {},
     "output_type": "execute_result"
    }
   ],
   "source": [
    "merged.columns"
   ]
  },
  {
   "cell_type": "code",
   "execution_count": 4,
   "metadata": {},
   "outputs": [
    {
     "data": {
      "text/html": [
       "<div>\n",
       "<style scoped>\n",
       "    .dataframe tbody tr th:only-of-type {\n",
       "        vertical-align: middle;\n",
       "    }\n",
       "\n",
       "    .dataframe tbody tr th {\n",
       "        vertical-align: top;\n",
       "    }\n",
       "\n",
       "    .dataframe thead th {\n",
       "        text-align: right;\n",
       "    }\n",
       "</style>\n",
       "<table border=\"1\" class=\"dataframe\">\n",
       "  <thead>\n",
       "    <tr style=\"text-align: right;\">\n",
       "      <th></th>\n",
       "      <th>COMMUTE</th>\n",
       "      <th>MEDIAN_AGE</th>\n",
       "      <th>INCOME_PER</th>\n",
       "      <th>UNEMPLOYME</th>\n",
       "      <th>OCCUPATION</th>\n",
       "    </tr>\n",
       "  </thead>\n",
       "  <tbody>\n",
       "    <tr>\n",
       "      <th>count</th>\n",
       "      <td>1.746500e+04</td>\n",
       "      <td>1.716200e+04</td>\n",
       "      <td>1.707800e+04</td>\n",
       "      <td>1.717100e+04</td>\n",
       "      <td>1.717100e+04</td>\n",
       "    </tr>\n",
       "    <tr>\n",
       "      <th>mean</th>\n",
       "      <td>-8.368497e-14</td>\n",
       "      <td>2.234885e-15</td>\n",
       "      <td>3.001271e-14</td>\n",
       "      <td>3.099110e-13</td>\n",
       "      <td>-2.072827e-14</td>\n",
       "    </tr>\n",
       "    <tr>\n",
       "      <th>std</th>\n",
       "      <td>1.000029e+00</td>\n",
       "      <td>1.000029e+00</td>\n",
       "      <td>1.000029e+00</td>\n",
       "      <td>1.000029e+00</td>\n",
       "      <td>1.000029e+00</td>\n",
       "    </tr>\n",
       "    <tr>\n",
       "      <th>min</th>\n",
       "      <td>-1.169041e+00</td>\n",
       "      <td>-4.640012e+00</td>\n",
       "      <td>-1.434821e+00</td>\n",
       "      <td>-1.286256e+00</td>\n",
       "      <td>-1.671517e+00</td>\n",
       "    </tr>\n",
       "    <tr>\n",
       "      <th>25%</th>\n",
       "      <td>-5.612275e-01</td>\n",
       "      <td>-6.801165e-01</td>\n",
       "      <td>-5.685087e-01</td>\n",
       "      <td>-6.825462e-01</td>\n",
       "      <td>-7.201138e-01</td>\n",
       "    </tr>\n",
       "    <tr>\n",
       "      <th>50%</th>\n",
       "      <td>-2.805746e-01</td>\n",
       "      <td>-2.612288e-03</td>\n",
       "      <td>-2.216577e-01</td>\n",
       "      <td>-1.811292e-01</td>\n",
       "      <td>-1.476647e-01</td>\n",
       "    </tr>\n",
       "    <tr>\n",
       "      <th>75%</th>\n",
       "      <td>1.604513e-01</td>\n",
       "      <td>6.398486e-01</td>\n",
       "      <td>2.372726e-01</td>\n",
       "      <td>4.575916e-01</td>\n",
       "      <td>5.222090e-01</td>\n",
       "    </tr>\n",
       "    <tr>\n",
       "      <th>max</th>\n",
       "      <td>1.131921e+01</td>\n",
       "      <td>5.394059e+00</td>\n",
       "      <td>1.325214e+01</td>\n",
       "      <td>2.278607e+01</td>\n",
       "      <td>7.262681e+00</td>\n",
       "    </tr>\n",
       "  </tbody>\n",
       "</table>\n",
       "</div>"
      ],
      "text/plain": [
       "            COMMUTE    MEDIAN_AGE    INCOME_PER    UNEMPLOYME    OCCUPATION\n",
       "count  1.746500e+04  1.716200e+04  1.707800e+04  1.717100e+04  1.717100e+04\n",
       "mean  -8.368497e-14  2.234885e-15  3.001271e-14  3.099110e-13 -2.072827e-14\n",
       "std    1.000029e+00  1.000029e+00  1.000029e+00  1.000029e+00  1.000029e+00\n",
       "min   -1.169041e+00 -4.640012e+00 -1.434821e+00 -1.286256e+00 -1.671517e+00\n",
       "25%   -5.612275e-01 -6.801165e-01 -5.685087e-01 -6.825462e-01 -7.201138e-01\n",
       "50%   -2.805746e-01 -2.612288e-03 -2.216577e-01 -1.811292e-01 -1.476647e-01\n",
       "75%    1.604513e-01  6.398486e-01  2.372726e-01  4.575916e-01  5.222090e-01\n",
       "max    1.131921e+01  5.394059e+00  1.325214e+01  2.278607e+01  7.262681e+00"
      ]
     },
     "execution_count": 4,
     "metadata": {},
     "output_type": "execute_result"
    }
   ],
   "source": [
    "indicators = merged[['COMMUTE', 'MEDIAN_AGE',\n",
    "       'INCOME_PER', 'UNEMPLOYME', 'OCCUPATION']].copy(deep=True)\n",
    "indicators.describe()"
   ]
  },
  {
   "cell_type": "code",
   "execution_count": 5,
   "metadata": {},
   "outputs": [],
   "source": [
    "indicators.replace(np.nan, 0, inplace=True)"
   ]
  },
  {
   "cell_type": "code",
   "execution_count": 6,
   "metadata": {},
   "outputs": [
    {
     "data": {
      "image/png": "[encoded data removed]",
      "text/plain": [
       "<matplotlib.figure.Figure at 0x10886ae80>"
      ]
     },
     "metadata": {},
     "output_type": "display_data"
    }
   ],
   "source": [
    "plt.hist(indicators['COMMUTE'], bins=200)\n",
    "plt.savefig('Figure1', dpi=500, transparent=True)\n",
    "plt.show()"
   ]
  },
  {
   "cell_type": "code",
   "execution_count": 7,
   "metadata": {},
   "outputs": [
    {
     "data": {
      "image/png": "[encoded data removed]",
      "text/plain": [
       "<matplotlib.figure.Figure at 0x1088a4ba8>"
      ]
     },
     "metadata": {},
     "output_type": "display_data"
    }
   ],
   "source": [
    "plt.hist(indicators['MEDIAN_AGE'], bins=200)\n",
    "plt.savefig('Figure2', dpi=500, transparent=True)\n",
    "plt.show()"
   ]
  },
  {
   "cell_type": "code",
   "execution_count": 8,
   "metadata": {},
   "outputs": [
    {
     "data": {
      "image/png": "[encoded data removed]",
      "text/plain": [
       "<matplotlib.figure.Figure at 0x104ba8898>"
      ]
     },
     "metadata": {},
     "output_type": "display_data"
    }
   ],
   "source": [
    "plt.hist(indicators['INCOME_PER'], bins=200)\n",
    "plt.savefig('Figure3', dpi=500, transparent=True)\n",
    "plt.show()"
   ]
  },
  {
   "cell_type": "code",
   "execution_count": 9,
   "metadata": {},
   "outputs": [
    {
     "data": {
      "image/png": "[encoded data removed]",
      "text/plain": [
       "<matplotlib.figure.Figure at 0x108e78da0>"
      ]
     },
     "metadata": {},
     "output_type": "display_data"
    }
   ],
   "source": [
    "plt.hist(indicators['UNEMPLOYME'], bins=200)\n",
    "plt.savefig('Figure4', dpi=500, transparent=True)\n",
    "plt.show()"
   ]
  },
  {
   "cell_type": "code",
   "execution_count": 10,
   "metadata": {},
   "outputs": [
    {
     "data": {
      "image/png": "[encoded data removed]",
      "text/plain": [
       "<matplotlib.figure.Figure at 0x10456bb00>"
      ]
     },
     "metadata": {},
     "output_type": "display_data"
    }
   ],
   "source": [
    "plt.hist(indicators['OCCUPATION'], bins=200)\n",
    "plt.savefig('Figure5', dpi=500, transparent=True)\n",
    "plt.show()"
   ]
  }
 ],
 "metadata": {
  "kernelspec": {
   "display_name": "Python 3",
   "language": "python",
   "name": "python3"
  },
  "language_info": {
   "codemirror_mode": {
    "name": "ipython",
    "version": 3
   },
   "file_extension": ".py",
   "mimetype": "text/x-python",
   "name": "python",
   "nbconvert_exporter": "python",
   "pygments_lexer": "ipython3",
   "version": "3.6.1"
  }
 },
 "nbformat": 4,
 "nbformat_minor": 2
}
